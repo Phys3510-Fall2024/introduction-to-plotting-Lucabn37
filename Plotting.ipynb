{
 "cells": [
  {
   "cell_type": "markdown",
   "id": "6b165a02-d247-401f-b0ee-ad52fbba936b",
   "metadata": {},
   "source": [
    "## Our plan \n",
    "\n",
    "1. import `numpy/matplotlib/ipywidgets`\n",
    "2. define potential energy\n",
    "3. define meshes for $Q_1$ & $Q_2$ $\\rightarrow$ `np.meshgrid`\n",
    "4. plot contours with `contourf`\n",
    "   "
   ]
  },
  {
   "cell_type": "code",
   "execution_count": 1,
   "id": "8db4f473-ad59-420d-8300-8ec6889620ee",
   "metadata": {},
   "outputs": [],
   "source": [
    "import numpy as np\n",
    "import matplotlib.pyplot as plt\n",
    "from ipywidgets import interact, FloatSlider, IntSlider"
   ]
  },
  {
   "cell_type": "code",
   "execution_count": 2,
   "id": "afb847d9-cf9e-4fcb-80ac-494b36ded9aa",
   "metadata": {},
   "outputs": [],
   "source": [
    "def plot_potential_energy(k1=1, k2=1, c=0, theta=0, levels=10): \n",
    "    # Generate the grid\n",
    "    q1 = np.linspace(-1, 1, 400)\n",
    "    q2 = np.linspace(0, 0, 400)\n",
    "    Q1, Q2 = np.meshgrid(q1, q2)\n",
    "\n",
    "    # Define the function\n",
    "    M = 0.5*k1*Q1**2 + 0.5*k2*Q2**2 + c*Q1*Q2**2\n",
    "\n",
    "    # Create the plot\n",
    "    plt.figure(figsize=(5, 5))\n",
    "    contour = plt.contourf(Q1, Q2, M, levels=levels, cmap='viridis')\n",
    "\n",
    "    # Set axis labels and range\n",
    "    plt.xlabel('$Q_1$', fontsize=12)\n",
    "    plt.ylabel('$Q_2$', fontsize=12)\n",
    "    plt.xlim([x_min, x_max])\n",
    "    plt.ylim([y_min, y_max])\n",
    "\n",
    "    plt.show()"
   ]
  },
  {
   "cell_type": "code",
   "execution_count": null,
   "id": "6f32c9ee-6338-44c8-b56d-7cfc5f947aed",
   "metadata": {},
   "outputs": [],
   "source": []
  },
  {
   "cell_type": "code",
   "execution_count": 10,
   "id": "0b53c33c-18e3-439e-87e6-ad6479acf66e",
   "metadata": {},
   "outputs": [],
   "source": [
    "def plot_contour(k1=0, k2=0, c=0, theta=0, levels=10):\n",
    "    # define x,y min, max\n",
    "    x_min = -5\n",
    "    x_max = 5\n",
    "    y_min = -5\n",
    "    y_max = 5\n",
    "    \n",
    "    # Generate the grid\n",
    "    q1 = np.linspace(x_min, x_max, 400)\n",
    "    q2 = np.linspace(y_min, y_max, 400)\n",
    "    Q1, Q2 = np.meshgrid(q1, q2)\n",
    "\n",
    "    # Define the function\n",
    "    Z = 0.5*k1*Q1**2 + 0.5*k2*Q2**2 + c*Q1*Q2**2\n",
    "\n",
    "    # Create the plot\n",
    "    plt.figure(figsize=(5, 5))\n",
    "    contour_filled = plt.contourf(Q1, Q2, Z, levels=levels, cmap='viridis')\n",
    "    contour_lines = plt.contour(Q1, Q2, Z, levels=levels, colors='black', linewidths=0.5)\n",
    "\n",
    "    # Add labels inline\n",
    "    plt.clabel(contour_lines, inline=True, fontsize=8)\n",
    "\n",
    "    # Set axis labels and range\n",
    "    plt.xlabel('$Q_1$', fontsize=12)\n",
    "    plt.ylabel('$Q_2$', fontsize=12)\n",
    "    plt.xlim([x_min, x_max])\n",
    "    plt.ylim([y_min, y_max])\n",
    "\n",
    "    # Colorbar legend\n",
    "    plt.colorbar(label='potential energy')\n",
    "    plt.title('Contour Plot of $U(Q1, Q2)$')\n",
    "    plt.xlabel('$Q_1$')\n",
    "    plt.ylabel('$Q_2$')\n",
    "\n",
    "\n",
    "\n",
    "    plt.xlim([-5, 5])\n",
    "    plt.ylim([-5, 5])\n",
    "\n",
    "  \n",
    "    # Display the plot\n",
    "    plt.show()\n"
   ]
  },
  {
   "cell_type": "code",
   "execution_count": 11,
   "id": "a0dfd47e-5d30-44ea-abc7-fa79d5555572",
   "metadata": {},
   "outputs": [
    {
     "data": {
      "application/vnd.jupyter.widget-view+json": {
       "model_id": "8719654ae8ad49f8ac7a1aa09377582f",
       "version_major": 2,
       "version_minor": 0
      },
      "text/plain": [
       "interactive(children=(FloatSlider(value=1.0, description='k1', max=2.0, min=-2.0), FloatSlider(value=1.0, desc…"
      ]
     },
     "metadata": {},
     "output_type": "display_data"
    },
    {
     "data": {
      "text/plain": [
       "<function __main__.plot_contour(k1=0, k2=0, c=0, theta=0, levels=10)>"
      ]
     },
     "execution_count": 11,
     "metadata": {},
     "output_type": "execute_result"
    }
   ],
   "source": [
    "interact(plot_contour,\n",
    "         k1=FloatSlider(min=-2, max=2, step=0.1, value=1, description='k1'),\n",
    "         k2=FloatSlider(min=-2, max=2, step=0.1, value=1, description='k2'),\n",
    "         c=FloatSlider(min=-2, max=2, step=0.1, value=0, description='c'),\n",
    "         levels=IntSlider(min=5, max=20, step=1, value=10, description='Levels')       \n",
    "        )"
   ]
  },
  {
   "cell_type": "markdown",
   "id": "de38b5e5-fefe-4880-893d-29d870c5f27c",
   "metadata": {},
   "source": [
    "1. As you increase $C$, how do the low-energy contours start to change?\n",
    "2. Does the force on $Q_1$ depend on the direction of $Q_2$?\n",
    "3. What do you expect the influence of driving $Q_2$ to be on the motion of $Q_1$?\n",
    "3. If $Q_1$ is kicked away from equilibrium, what do you expect its influence to be on $Q_2$?\n"
   ]
  },
  {
   "cell_type": "markdown",
   "id": "88bbc96c-f59a-4507-b6e4-c784d7636445",
   "metadata": {},
   "source": [
    "1. As $C$ increases, the low energy contours widen and increase. At $C=0$ we see the middle of the plot begins at $2.5$, and the next ring is at $5.0$. When $C$ is increased to $C=0.8$, the middle begins at $0$ and increases to $20$, so the jump from each ring to the next has widened.\n",
    "2. No, as both $Q_1$ and $Q_2$ are coupled to each other, if one changes sign it will flip across its axis. The other will also be affected, and the plot will look different, but the force itself is unchanged.\n",
    "3. I would expect that driving $Q_2$ will result in increased motion in $Q_1$. However when I increase $K_2$ in the plot above, $Q_1$ seems to stay relatively unchanged.\n",
    "4. If motion is only in $Q_1$ then no motion will occur in $Q_2$. When $K_1$ increases, and $K_2$ is at zero, the plot is only affected in  $Q_1$."
   ]
  },
  {
   "cell_type": "code",
   "execution_count": null,
   "id": "65974e4f-19b3-4287-9de6-e2a6f1612018",
   "metadata": {},
   "outputs": [],
   "source": []
  }
 ],
 "metadata": {
  "kernelspec": {
   "display_name": "Python 3 (ipykernel)",
   "language": "python",
   "name": "python3"
  },
  "language_info": {
   "codemirror_mode": {
    "name": "ipython",
    "version": 3
   },
   "file_extension": ".py",
   "mimetype": "text/x-python",
   "name": "python",
   "nbconvert_exporter": "python",
   "pygments_lexer": "ipython3",
   "version": "3.9.20"
  }
 },
 "nbformat": 4,
 "nbformat_minor": 5
}
